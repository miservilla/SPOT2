{
 "cells": [
  {
   "cell_type": "code",
   "execution_count": 4,
   "metadata": {},
   "outputs": [
    {
     "name": "stdout",
     "output_type": "stream",
     "text": [
      "      KEGG ID                                   substrate\n",
      "0      C00001                                         H2O\n",
      "1      C00001                                       Water\n",
      "2      C00002                                         ATP\n",
      "3      C00002                   Adenosine 5'-triphosphate\n",
      "4      C00003                                        NAD+\n",
      "...       ...                                         ...\n",
      "32850  C22919                            Isobutyraldehyde\n",
      "32851  C22919                            2-Methylpropanal\n",
      "32852  C22919                         2-Methyl-1-propanal\n",
      "32853  C22920          4-Oxocyclohex-2,5-dienecarboxylate\n",
      "32854  C22920  4-Oxocyclohexa-2,5-diene-1-carboxylic acid\n",
      "\n",
      "[32855 rows x 2 columns]\n"
     ]
    }
   ],
   "source": [
    "import pandas as pd\n",
    "\n",
    "filename = '/data_link/servilla/SPOT2/data/substrates/KEGG_substrate_df.pkl'\n",
    "\n",
    "df = pd.read_pickle(filename)\n",
    "\n",
    "print(df)\n"
   ]
  }
 ],
 "metadata": {
  "kernelspec": {
   "display_name": "xgboost_gpu",
   "language": "python",
   "name": "python3"
  },
  "language_info": {
   "codemirror_mode": {
    "name": "ipython",
    "version": 3
   },
   "file_extension": ".py",
   "mimetype": "text/x-python",
   "name": "python",
   "nbconvert_exporter": "python",
   "pygments_lexer": "ipython3",
   "version": "3.8.19"
  }
 },
 "nbformat": 4,
 "nbformat_minor": 2
}
