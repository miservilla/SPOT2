{
 "cells": [
  {
   "cell_type": "code",
   "execution_count": 13,
   "metadata": {},
   "outputs": [
    {
     "name": "stdout",
     "output_type": "stream",
     "text": [
      "        ChEBI ID                                     Name  \\\n",
      "0    CHEBI:30616                                  ATP(4-)   \n",
      "1    CHEBI:64837  N(pros)-phosphonato-L-histidine residue   \n",
      "2    CHEBI:58245   2'-deoxyadenosine 5'-monophosphate(2-)   \n",
      "3    CHEBI:57673   2'-deoxyguanosine 5'-monophosphate(2-)   \n",
      "4    CHEBI:58115           guanosine 5'-monophosphate(2-)   \n",
      "..           ...                                      ...   \n",
      "208  CHEBI:16708                                  adenine   \n",
      "209  CHEBI:16040                                 cytosine   \n",
      "210  CHEBI:17712                              9H-xanthine   \n",
      "211  CHEBI:57947                      creatine zwitterion   \n",
      "212  CHEBI:33542             trioxidosulfanidosulfate(1-)   \n",
      "\n",
      "                                                SMILES  \\\n",
      "0    Nc1ncnc2n(cnc12)[C@@H]1O[C@H](COP([O-])(=O)OP(...   \n",
      "1        C(*)(=O)[C@@H](N*)CC=1N(C=NC1)P([O-])(=O)[O-]   \n",
      "2    Nc1ncnc2n(cnc12)[C@H]1C[C@H](O)[C@@H](COP([O-]...   \n",
      "3    Nc1nc2n(cnc2c(=O)[nH]1)[C@H]1C[C@H](O)[C@@H](C...   \n",
      "4    Nc1nc2n(cnc2c(=O)[nH]1)[C@@H]1O[C@H](COP([O-])...   \n",
      "..                                                 ...   \n",
      "208                                  Nc1ncnc2[nH]cnc12   \n",
      "209                                   Nc1cc[nH]c(=O)n1   \n",
      "210                       O=c1[nH]c2[nH]cnc2c(=O)[nH]1   \n",
      "211                          CN(CC([O-])=O)C(N)=[NH2+]   \n",
      "212                                  [H]SS([O-])(=O)=O   \n",
      "\n",
      "                                            Definition  \n",
      "0    A nucleoside triphosphate(4-) obtained by glob...  \n",
      "1    An anionic amino-acid residue formed by loss o...  \n",
      "2    A 2'-deoxyribonucleoside 5'-monophosphate(2-) ...  \n",
      "3    A 2'-deoxyribonucleoside 5'-monophosphate(2-) ...  \n",
      "4    A nucleoside 5'-monophosphate(2-) that results...  \n",
      "..                                                 ...  \n",
      "208  The parent compound of the 6-aminopurines, com...  \n",
      "209  An aminopyrimidine that is pyrimidin-2-one hav...  \n",
      "210  An oxopurine in which the purine ring is subst...  \n",
      "211  Zwitterionic form of creatine arising from tra...  \n",
      "212                                               None  \n",
      "\n",
      "[213 rows x 4 columns]\n"
     ]
    }
   ],
   "source": [
    "import pandas as pd\n",
    "from libchebipy import ChebiEntity\n",
    "\n",
    "\n",
    "def get_smiles_from_chebi(chebi_id):\n",
    "    try:\n",
    "        entity = ChebiEntity(chebi_id)\n",
    "        name = entity.get_name()\n",
    "        smiles = entity.get_smiles()\n",
    "        definition = entity.get_definition()\n",
    "        return name, smiles, definition\n",
    "    except Exception as e:\n",
    "        print(f\"Failed to retrieve SMILES for {chebi_id}: {e}\")\n",
    "        return None\n",
    "\n",
    "\n",
    "# Load ChEBI IDs from CSV file\n",
    "input_csv = '/data_link/servilla/SPOT2/data/Uniprot/Unique_CHEBI_IDs.csv'\n",
    "df = pd.read_csv(input_csv)\n",
    "\n",
    "# Ensure the column containing ChEBI IDs is correctly named\n",
    "chebi_ids = df['molecule ID']\n",
    "\n",
    "# Create a DataFrame to store the results\n",
    "results = []\n",
    "\n",
    "for chebi_id in chebi_ids:\n",
    "    name, smiles, definition = get_smiles_from_chebi(chebi_id)\n",
    "    results.append({'ChEBI ID': chebi_id, 'Name': name, 'SMILES': smiles, 'Definition': definition})\n",
    "\n",
    "results_df = pd.DataFrame(results)\n",
    "\n",
    "# Save the results to a new CSV file\n",
    "output_csv = '/data_link/servilla/SPOT2/data/Uniprot/chebi_smiles.csv'\n",
    "results_df.to_csv(output_csv, index=False)\n",
    "\n",
    "print(results_df)"
   ]
  }
 ],
 "metadata": {
  "kernelspec": {
   "display_name": "xgboost_gpu",
   "language": "python",
   "name": "python3"
  },
  "language_info": {
   "codemirror_mode": {
    "name": "ipython",
    "version": 3
   },
   "file_extension": ".py",
   "mimetype": "text/x-python",
   "name": "python",
   "nbconvert_exporter": "python",
   "pygments_lexer": "ipython3",
   "version": "3.8.19"
  }
 },
 "nbformat": 4,
 "nbformat_minor": 2
}
