{
 "cells": [
  {
   "cell_type": "code",
   "execution_count": 5,
   "metadata": {},
   "outputs": [
    {
     "name": "stdout",
     "output_type": "stream",
     "text": [
      "       Uniprot ID     GO Term ECO_Evidence_code\n",
      "0          B4IDW0  GO:0006886       ECO:0000265\n",
      "1          B4HNS0  GO:0015574       ECO:0000265\n",
      "2          B4HNS0  GO:0005355       ECO:0000265\n",
      "3          B4HNS0  GO:1904659       ECO:0000265\n",
      "4          B4HNS0  GO:0015771       ECO:0000265\n",
      "...           ...         ...               ...\n",
      "50501  A0A2U9BQC6  GO:0071805       ECO:0007826\n",
      "50502  A0A6A3T1X0  GO:0071805       ECO:0007826\n",
      "50503  A0A2S5KLI5  GO:0015740       ECO:0007826\n",
      "50504  A0A1I3QZQ4  GO:0015741       ECO:0007826\n",
      "50505  A0A416HKA5  GO:0015768       ECO:0007826\n",
      "\n",
      "[50506 rows x 3 columns]\n"
     ]
    }
   ],
   "source": [
    "import pandas as pd\n",
    "\n",
    "filename = '/data_link/servilla/SPOT2/data/GOA/GO_UID_mapping/df_GO_UID_part_0.pkl'\n",
    "\n",
    "df = pd.read_pickle(filename)\n",
    "\n",
    "print(df)"
   ]
  },
  {
   "cell_type": "code",
   "execution_count": 4,
   "metadata": {},
   "outputs": [
    {
     "name": "stdout",
     "output_type": "stream",
     "text": [
      "gpa-version: 1.1\n",
      "!\n",
      "!This file contains all GO annotations for proteins in the UniProt KnowledgeBase (UniProtKB).\n",
      "!\n",
      "!It also contains all annotations for protein complexes, identified by ComplexPortal identifiers,\n",
      "!and for non-coding RNAs, identified by RNAcentral identifiers\n",
      "!\n",
      "!Columns:\n",
      "!\n",
      "!   name                  required? cardinality   GAF column #\n",
      "!   DB                    required  1             1\n",
      "!   DB_Object_ID          required  1             2 / 17\n",
      "!   Qualifier             required  1 or greater  4\n",
      "!   GO ID                 required  1             5\n",
      "!   DB:Reference(s)       required  1 or greater  6\n",
      "!   ECO evidence code     required  1             7 (GO evidence code)\n",
      "!   With                  optional  0 or greater  8\n",
      "!   Interacting taxon ID  optional  0 or 1        13\n",
      "!   Date                  required  1             14\n",
      "!   Assigned_by           required  1             15\n",
      "!   Annotation Extension  optional  0 or greater  16\n",
      "!   Annotation Properties optional  0 or 1        n/a\n",
      "!\n",
      "!Generated: 2024-04-16 20:23\n",
      "!GO-version: http://purl.obolibrary.org/obo/go/releases/2024-04-13/extensions/go-plus.owl\n",
      "!\n",
      "UniProtKB\tB4J2J6\tlocated_in\tGO:0005737\tGO_REF:0000107\tECO:0000265\tUniProtKB:M9PEW1|FlyBase:FBpp0303935\t\t20240129\tEnsemblMetazoa\n",
      "UniProtKB\tB4J9N3\tinvolved_in\tGO:0008340\tGO_REF:0000107\tECO:0000265\tUniProtKB:Q8MMC6|FlyBase:FBpp0072319\t\t20240129\tEnsemblMetazoa\n",
      "UniProtKB\tB4J4H3\tinvolved_in\tGO:0002098\tGO_REF:0000107\tECO:0000265\tUniProtKB:Q9W232|FlyBase:FBpp0071849\t\t20240129\tEnsemblMetazoa\n",
      "UniProtKB\tB4HNC1\tinvolved_in\tGO:0045861\tGO_REF:0000107\tECO:0000265\tUniProtKB:Q7JV69|FlyBase:FBpp0085912\t\t20240129\tEnsemblMetazoa\n",
      "UniProtKB\tB4HNC1\tenables\tGO:0004867\tGO_REF:0000107\tECO:0000265\tUniProtKB:Q7JV69|FlyBase:FBpp0085912\t\t20240129\tEnsemblMetazoa\n",
      "UniProtKB\tB4IF59\tenables\tGO:0017128\tGO_REF:0000107\tECO:0000265\tUniProtKB:M9PHA4|FlyBase:FBpp0304142\t\t20240129\tEnsemblMetazoa\n",
      "UniProtKB\tB4IF59\tlocated_in\tGO:0005886\tGO_REF:0000107\tECO:0000265\tUniProtKB:M9PHA4|FlyBase:FBpp0304142\t\t20240129\tEnsemblMetazoa\n",
      "UniProtKB\tB4IF59\tinvolved_in\tGO:0017121\tGO_REF:0000107\tECO:0000265\tUniProtKB:M9PHA4|FlyBase:FBpp0304142\t\t20240129\tEnsemblMetazoa\n",
      "UniProtKB\tB4IDW0\tinvolved_in\tGO:0046847\tGO_REF:0000107\tECO:0000265\tUniProtKB:Q0KHU0|FlyBase:FBpp0302017\t\t20240129\tEnsemblMetazoa\n",
      "UniProtKB\tB4IDW0\tlocated_in\tGO:0030175\tGO_REF:0000107\tECO:0000265\tUniProtKB:Q0KHU0|FlyBase:FBpp0302017\t\t20240129\tEnsemblMetazoa\n",
      "UniProtKB\tB4IDW0\tlocated_in\tGO:0043025\tGO_REF:0000107\tECO:0000265\tUniProtKB:Q0KHU0|FlyBase:FBpp0302017\t\t20240129\tEnsemblMetazoa\n",
      "UniProtKB\tB4IDW0\tinvolved_in\tGO:0006886\tGO_REF:0000107\tECO:0000265\tUniProtKB:Q0KHU0|FlyBase:FBpp0302017\t\t20240129\tEnsemblMetazoa\n",
      "UniProtKB\tB4IDW0\tinvolved_in\tGO:0007391\tGO_REF:0000107\tECO:0000265\tUniProtKB:Q0KHU0|FlyBase:FBpp0302017\t\t20240129\tEnsemblMetazoa\n",
      "UniProtKB\tB4HNS0\tenables\tGO:0015574\tGO_REF:0000107\tECO:0000265\tUniProtKB:A1Z8N1|FlyBase:FBpp0087178\t\t20240129\tEnsemblMetazoa\n",
      "UniProtKB\tB4HNS0\tenables\tGO:0005355\tGO_REF:0000107\tECO:0000265\tUniProtKB:A1Z8N1|FlyBase:FBpp0087178\t\t20240129\tEnsemblMetazoa\n",
      "UniProtKB\tB4HNS0\tlocated_in\tGO:0005886\tGO_REF:0000107\tECO:0000265\tUniProtKB:A1Z8N1|FlyBase:FBpp0087178\t\t20240129\tEnsemblMetazoa\n",
      "UniProtKB\tB4HNS0\tlocated_in\tGO:0016020\tGO_REF:0000107\tECO:0000265\tUniProtKB:A1Z8N1|FlyBase:FBpp0087178\t\t20240129\tEnsemblMetazoa\n",
      "UniProtKB\tB4HNS0\tinvolved_in\tGO:1904659\tGO_REF:0000107\tECO:0000265\tUniProtKB:A1Z8N1|FlyBase:FBpp0087178\t\t20240129\tEnsemblMetazoa\n",
      "UniProtKB\tB4HNS0\tinvolved_in\tGO:0015771\tGO_REF:0000107\tECO:0000265\tUniProtKB:A1Z8N1|FlyBase:FBpp0087178\t\t20240129\tEnsemblMetazoa\n",
      "UniProtKB\tB4HR32\tinvolved_in\tGO:0071361\tGO_REF:0000107\tECO:0000265\tUniProtKB:Q961L4|FlyBase:FBpp0088031\t\t20240129\tEnsemblMetazoa\n",
      "UniProtKB\tB4HR32\tinvolved_in\tGO:0001666\tGO_REF:0000107\tECO:0000265\tUniProtKB:Q961L4|FlyBase:FBpp0088031\t\t20240129\tEnsemblMetazoa\n",
      "UniProtKB\tB4HTE0\tlocated_in\tGO:0022626\tGO_REF:0000107\tECO:0000265\tUniProtKB:Q9V3G1|FlyBase:FBpp0072802\t\t20240129\tEnsemblMetazoa\n",
      "UniProtKB\tB4HTE0\tlocated_in\tGO:0000228\tGO_REF:0000107\tECO:0000265\tUniProtKB:Q9V3G1|FlyBase:FBpp0072802\t\t20240129\tEnsemblMetazoa\n",
      "UniProtKB\tB4HTE0\tlocated_in\tGO:0005730\tGO_REF:0000107\tECO:0000265\tUniProtKB:Q9V3G1|FlyBase:FBpp0072802\t\t20240129\tEnsemblMetazoa\n",
      "UniProtKB\tB4HTE0\tlocated_in\tGO:0005737\tGO_REF:0000107\tECO:0000265\tUniProtKB:Q9V3G1|FlyBase:FBpp0072802\t\t20240129\tEnsemblMetazoa\n",
      "UniProtKB\tB4HTE0\tenables\tGO:0003735\tGO_REF:0000107\tECO:0000265\tUniProtKB:Q9V3G1|FlyBase:FBpp0072802\t\t20240129\tEnsemblMetazoa\n",
      "UniProtKB\tB4IF96\tpart_of\tGO:0008278\tGO_REF:0000107\tECO:0000265\tUniProtKB:Q24098|FlyBase:FBpp0074065\t\t20240129\tEnsemblMetazoa\n",
      "UniProtKB\tB4IF96\tpart_of\tGO:0008278\tGO_REF:0000107\tECO:0000265\tUniProtKB:Q9VXE9|FlyBase:FBpp0074065\t\t20240129\tEnsemblMetazoa\n",
      "UniProtKB\tB4IF96\tinvolved_in\tGO:0007476\tGO_REF:0000107\tECO:0000265\tUniProtKB:Q24098|FlyBase:FBpp0074065\t\t20240129\tEnsemblMetazoa\n",
      "UniProtKB\tB4IF96\tinvolved_in\tGO:0007476\tGO_REF:0000107\tECO:0000265\tUniProtKB:Q9VXE9|FlyBase:FBpp0074065\t\t20240129\tEnsemblMetazoa\n",
      "UniProtKB\tB4IF96\tinvolved_in\tGO:0001737\tGO_REF:0000107\tECO:0000265\tUniProtKB:Q24098|FlyBase:FBpp0074065\t\t20240129\tEnsemblMetazoa\n",
      "UniProtKB\tB4IF96\tinvolved_in\tGO:0001737\tGO_REF:0000107\tECO:0000265\tUniProtKB:Q9VXE9|FlyBase:FBpp0074065\t\t20240129\tEnsemblMetazoa\n",
      "UniProtKB\tB4IFM5\tinvolved_in\tGO:0034599\tGO_REF:0000107\tECO:0000265\tUniProtKB:Q9VIE1|FlyBase:FBpp0304068\t\t20240129\tEnsemblMetazoa\n",
      "UniProtKB\tB4HT69\tinvolved_in\tGO:0040008\tGO_REF:0000107\tECO:0000265\tUniProtKB:Q7KJ08|FlyBase:FBpp0304259\t\t20240129\tEnsemblMetazoa\n",
      "UniProtKB\tB4HT69\tinvolved_in\tGO:0042051\tGO_REF:0000107\tECO:0000265\tUniProtKB:Q7KJ08|FlyBase:FBpp0304259\t\t20240129\tEnsemblMetazoa\n",
      "UniProtKB\tB4HT69\tinvolved_in\tGO:0045792\tGO_REF:0000107\tECO:0000265\tUniProtKB:Q7KJ08|FlyBase:FBpp0304259\t\t20240129\tEnsemblMetazoa\n",
      "UniProtKB\tB4HT69\tinvolved_in\tGO:0048565\tGO_REF:0000107\tECO:0000265\tUniProtKB:Q7KJ08|FlyBase:FBpp0304259\t\t20240129\tEnsemblMetazoa\n",
      "UniProtKB\tB4HT69\tenables\tGO:0004714\tGO_REF:0000107\tECO:0000265\tUniProtKB:Q7KJ08|FlyBase:FBpp0304259\t\t20240129\tEnsemblMetazoa\n",
      "UniProtKB\tB4JR58\tinvolved_in\tGO:0035167\tGO_REF:0000107\tECO:0000265\tUniProtKB:Q9VL81|FlyBase:FBpp0079466\t\t20240129\tEnsemblMetazoa\n",
      "UniProtKB\tB4HT69\tinvolved_in\tGO:1900074\tGO_REF:0000107\tECO:0000265\tUniProtKB:Q7KJ08|FlyBase:FBpp0304259\t\t20240129\tEnsemblMetazoa\n",
      "UniProtKB\tB4HT69\tinvolved_in\tGO:0099540\tGO_REF:0000107\tECO:0000265\tUniProtKB:Q7KJ08|FlyBase:FBpp0304259\t\t20240129\tEnsemblMetazoa\n",
      "UniProtKB\tB4HT69\tlocated_in\tGO:0031594\tGO_REF:0000107\tECO:0000265\tUniProtKB:Q7KJ08|FlyBase:FBpp0304259\t\t20240129\tEnsemblMetazoa\n",
      "UniProtKB\tB4HT69\tlocated_in\tGO:0061176\tGO_REF:0000107\tECO:0000265\tUniProtKB:Q7KJ08|FlyBase:FBpp0304259\t\t20240129\tEnsemblMetazoa\n",
      "UniProtKB\tB4HT69\tlocated_in\tGO:0061177\tGO_REF:0000107\tECO:0000265\tUniProtKB:Q7KJ08|FlyBase:FBpp0304259\t\t20240129\tEnsemblMetazoa\n",
      "UniProtKB\tB4HT69\tlocated_in\tGO:0098794\tGO_REF:0000107\tECO:0000265\tUniProtKB:Q7KJ08|FlyBase:FBpp0304259\t\t20240129\tEnsemblMetazoa\n",
      "UniProtKB\tB4HT69\tlocated_in\tGO:0071212\tGO_REF:0000107\tECO:0000265\tUniProtKB:Q7KJ08|FlyBase:FBpp0304259\t\t20240129\tEnsemblMetazoa\n",
      "UniProtKB\tB4HT69\tinvolved_in\tGO:0007522\tGO_REF:0000107\tECO:0000265\tUniProtKB:Q7KJ08|FlyBase:FBpp0304259\t\t20240129\tEnsemblMetazoa\n",
      "UniProtKB\tB4HT69\tinvolved_in\tGO:0070374\tGO_REF:0000107\tECO:0000265\tUniProtKB:Q7KJ08|FlyBase:FBpp0304259\t\t20240129\tEnsemblMetazoa\n",
      "UniProtKB\tB4HT69\tinvolved_in\tGO:0090328\tGO_REF:0000107\tECO:0000265\tUniProtKB:Q7KJ08|FlyBase:FBpp0304259\t\t20240129\tEnsemblMetazoa\n",
      "UniProtKB\tB4HT69\tinvolved_in\tGO:0007169\tGO_REF:0000107\tECO:0000265\tUniProtKB:Q7KJ08|FlyBase:FBpp0304259\t\t20240129\tEnsemblMetazoa\n",
      "UniProtKB\tB4HT69\tinvolved_in\tGO:0007411\tGO_REF:0000107\tECO:0000265\tUniProtKB:Q7KJ08|FlyBase:FBpp0304259\t\t20240129\tEnsemblMetazoa\n",
      "UniProtKB\tB4HT69\tinvolved_in\tGO:0043410\tGO_REF:0000107\tECO:0000265\tUniProtKB:Q7KJ08|FlyBase:FBpp0304259\t\t20240129\tEnsemblMetazoa\n",
      "UniProtKB\tB4HT69\tinvolved_in\tGO:0007498\tGO_REF:0000107\tECO:0000265\tUniProtKB:Q7KJ08|FlyBase:FBpp0304259\t\t20240129\tEnsemblMetazoa\n",
      "UniProtKB\tB4HLV8\tpart_of\tGO:0005675\tGO_REF:0000107\tECO:0000265\tUniProtKB:Q02870|FlyBase:FBpp0075982\t\t20240129\tEnsemblMetazoa\n",
      "UniProtKB\tB4HLV8\tinvolved_in\tGO:0009411\tGO_REF:0000107\tECO:0000265\tUniProtKB:Q02870|FlyBase:FBpp0075982\t\t20240129\tEnsemblMetazoa\n",
      "UniProtKB\tB4HLV8\tlocated_in\tGO:0005634\tGO_REF:0000107\tECO:0000265\tUniProtKB:Q02870|FlyBase:FBpp0075982\t\t20240129\tEnsemblMetazoa\n",
      "UniProtKB\tB4HLV8\tinvolved_in\tGO:0006366\tGO_REF:0000107\tECO:0000265\tUniProtKB:Q02870|FlyBase:FBpp0075982\t\t20240129\tEnsemblMetazoa\n",
      "UniProtKB\tB4HLV8\tinvolved_in\tGO:0006367\tGO_REF:0000107\tECO:0000265\tUniProtKB:Q02870|FlyBase:FBpp0075982\t\t20240129\tEnsemblMetazoa\n",
      "UniProtKB\tB4JPL3\tlocated_in\tGO:0022626\tGO_REF:0000107\tECO:0000265\tUniProtKB:P15357|FlyBase:FBpp0079606\t\t20240129\tEnsemblMetazoa\n",
      "UniProtKB\tB4JPL3\tenables\tGO:0003735\tGO_REF:0000107\tECO:0000265\tUniProtKB:P15357|FlyBase:FBpp0079606\t\t20240129\tEnsemblMetazoa\n",
      "UniProtKB\tB4HR24\tinvolved_in\tGO:0045892\tGO_REF:0000107\tECO:0000265\tUniProtKB:P40657|FlyBase:FBpp0086702\t\t20240129\tEnsemblMetazoa\n",
      "UniProtKB\tB4HR24\tinvolved_in\tGO:0022416\tGO_REF:0000107\tECO:0000265\tUniProtKB:P40657|FlyBase:FBpp0086702\t\t20240129\tEnsemblMetazoa\n",
      "UniProtKB\tB4HR24\tinvolved_in\tGO:0008285\tGO_REF:0000107\tECO:0000265\tUniProtKB:P40657|FlyBase:FBpp0086702\t\t20240129\tEnsemblMetazoa\n",
      "UniProtKB\tB4HR24\tlocated_in\tGO:0005634\tGO_REF:0000107\tECO:0000265\tUniProtKB:P40657|FlyBase:FBpp0086702\t\t20240129\tEnsemblMetazoa\n",
      "UniProtKB\tB4HR24\tinvolved_in\tGO:0035220\tGO_REF:0000107\tECO:0000265\tUniProtKB:P40657|FlyBase:FBpp0086702\t\t20240129\tEnsemblMetazoa\n",
      "UniProtKB\tB4HR24\tinvolved_in\tGO:0043066\tGO_REF:0000107\tECO:0000265\tUniProtKB:P40657|FlyBase:FBpp0086702\t\t20240129\tEnsemblMetazoa\n",
      "UniProtKB\tB4HR24\tinvolved_in\tGO:0000122\tGO_REF:0000107\tECO:0000265\tUniProtKB:P40657|FlyBase:FBpp0086702\t\t20240129\tEnsemblMetazoa\n",
      "UniProtKB\tB4IN53\tpart_of\tGO:0070822\tGO_REF:0000107\tECO:0000265\tUniProtKB:Q9VQ58|FlyBase:FBpp0077538\t\t20240129\tEnsemblMetazoa\n",
      "UniProtKB\tB4IN53\tlocated_in\tGO:0005634\tGO_REF:0000107\tECO:0000265\tUniProtKB:Q9VQ58|FlyBase:FBpp0077538\t\t20240129\tEnsemblMetazoa\n",
      "UniProtKB\tB4JVC4\tinvolved_in\tGO:0060857\tGO_REF:0000107\tECO:0000265\tUniProtKB:Q9V8R9|FlyBase:FBpp0085697\t\t20240129\tEnsemblMetazoa\n",
      "UniProtKB\tB4JVC4\tlocated_in\tGO:0005886\tGO_REF:0000107\tECO:0000265\tUniProtKB:Q9V8R9|FlyBase:FBpp0085697\t\t20240129\tEnsemblMetazoa\n",
      "UniProtKB\tB4JVC4\tlocated_in\tGO:0005918\tGO_REF:0000107\tECO:0000265\tUniProtKB:Q9V8R9|FlyBase:FBpp0085697\t\t20240129\tEnsemblMetazoa\n",
      "UniProtKB\tB4HHX1\tpart_of\tGO:0019183\tGO_REF:0000107\tECO:0000265\tUniProtKB:Q9VGI0|FlyBase:FBpp0081946\t\t20240129\tEnsemblMetazoa\n",
      "UniProtKB\tB4HHX1\tpart_of\tGO:0019183\tGO_REF:0000107\tECO:0000265\tUniProtKB:Q8T9R9|FlyBase:FBpp0081946\t\t20240129\tEnsemblMetazoa\n"
     ]
    }
   ],
   "source": [
    "import gzip\n",
    "\n",
    "filename = '/data_link/servilla/SPOT2/data/GOA/goa_uniprot_all.gpa.gz'\n",
    "\n",
    "# Open the .gz file in read mode\n",
    "with gzip.open(filename, 'rt') as f:\n",
    "    # Read and print the first few lines to inspect the file\n",
    "    for i in range(100):  # Adjust the range to read more or fewer lines\n",
    "        line = f.readline()\n",
    "        print(line.strip())\n"
   ]
  },
  {
   "cell_type": "code",
   "execution_count": 5,
   "metadata": {},
   "outputs": [
    {
     "name": "stdout",
     "output_type": "stream",
     "text": [
      "Number of non-commented lines: 1205654900\n"
     ]
    }
   ],
   "source": [
    "import gzip\n",
    "\n",
    "filename = '/data_link/servilla/SPOT2/data/GOA/goa_uniprot_all.gpa.gz'  # Update with your actual file path\n",
    "\n",
    "def count_non_commented_lines(filename):\n",
    "    count = 0\n",
    "    with gzip.open(filename, 'rt') as fp:\n",
    "        for line in fp:\n",
    "            # Skip commented lines (lines that start with '!')\n",
    "            if not line.startswith('!'):\n",
    "                count += 1\n",
    "    return count\n",
    "\n",
    "non_commented_lines_count = count_non_commented_lines(filename)\n",
    "print(f\"Number of non-commented lines: {non_commented_lines_count}\")\n"
   ]
  }
 ],
 "metadata": {
  "kernelspec": {
   "display_name": "xgboost_gpu",
   "language": "python",
   "name": "python3"
  },
  "language_info": {
   "codemirror_mode": {
    "name": "ipython",
    "version": 3
   },
   "file_extension": ".py",
   "mimetype": "text/x-python",
   "name": "python",
   "nbconvert_exporter": "python",
   "pygments_lexer": "ipython3",
   "version": "3.8.19"
  }
 },
 "nbformat": 4,
 "nbformat_minor": 2
}
