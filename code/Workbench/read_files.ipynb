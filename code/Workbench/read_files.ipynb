{
 "cells": [
  {
   "cell_type": "code",
   "execution_count": 14,
   "metadata": {},
   "outputs": [
    {
     "name": "stdout",
     "output_type": "stream",
     "text": [
      "Index(['Uniprot ID', 'GO Term', 'ECO_Evidence_code'], dtype='object')\n",
      "GO Term\n",
      "GO:0022857    3914\n",
      "GO:0055085    3183\n",
      "GO:0042626    1040\n",
      "GO:0006886     826\n",
      "GO:0071805     780\n",
      "              ... \n",
      "GO:0022804       1\n",
      "GO:0005363       1\n",
      "GO:0015168       1\n",
      "GO:0035378       1\n",
      "GO:0000006       1\n",
      "Name: count, Length: 631, dtype: int64\n",
      "       Uniprot ID     GO Term ECO_Evidence_code\n",
      "0          B4IDW0  GO:0006886       ECO:0000265\n",
      "1          B4HNS0  GO:0015574       ECO:0000265\n",
      "2          B4HNS0  GO:0005355       ECO:0000265\n",
      "3          B4HNS0  GO:1904659       ECO:0000265\n",
      "4          B4HNS0  GO:0015771       ECO:0000265\n",
      "...           ...         ...               ...\n",
      "55411  A0A2U9BQC6  GO:0071805       ECO:0007826\n",
      "55412  A0A6A3T1X0  GO:0071805       ECO:0007826\n",
      "55413  A0A2S5KLI5  GO:0015740       ECO:0007826\n",
      "55414  A0A1I3QZQ4  GO:0015741       ECO:0007826\n",
      "55415  A0A416HKA5  GO:0015768       ECO:0007826\n",
      "\n",
      "[55416 rows x 3 columns]\n"
     ]
    }
   ],
   "source": [
    "import pandas as pd\n",
    "\n",
    "filename = '/data_link/servilla/SPOT2/data/GOA/GO_UID_mapping/df_GO_UID_part_0.pkl'\n",
    "\n",
    "df = pd.read_pickle(filename)\n",
    "\n",
    "print(df.columns)\n",
    "\n",
    "unique_term_counts = df['GO Term'].value_counts()\n",
    "print(unique_term_counts)\n",
    "\n",
    "\n",
    "\n",
    "print(df)"
   ]
  },
  {
   "cell_type": "code",
   "execution_count": null,
   "metadata": {},
   "outputs": [],
   "source": [
    "import gzip\n",
    "\n",
    "filename = '/data_link/servilla/SPOT2/data/goa_uniprot_all.gaf.gz'\n",
    "\n",
    "# Open the .gz file in read mode\n",
    "with gzip.open(filename, 'rt') as f:\n",
    "    # Read and print the first few lines to inspect the file\n",
    "    for i in range(100):  # Adjust the range to read more or fewer lines\n",
    "        line = f.readline()\n",
    "        print(line.strip())"
   ]
  },
  {
   "cell_type": "code",
   "execution_count": 3,
   "metadata": {},
   "outputs": [
    {
     "ename": "",
     "evalue": "",
     "output_type": "error",
     "traceback": [
      "\u001b[1;31mThe Kernel crashed while executing code in the current cell or a previous cell. \n",
      "\u001b[1;31mPlease review the code in the cell(s) to identify a possible cause of the failure. \n",
      "\u001b[1;31mClick <a href='https://aka.ms/vscodeJupyterKernelCrash'>here</a> for more info. \n",
      "\u001b[1;31mView Jupyter <a href='command:jupyter.viewOutput'>log</a> for further details."
     ]
    }
   ],
   "source": [
    "import gzip\n",
    "import pandas as pd\n",
    "\n",
    "# Define the path to the gzipped GAF file\n",
    "file_path = '/data_link/servilla/SPOT2/data/goa_uniprot_all.gaf.gz'\n",
    "\n",
    "# Read the file and count the number of annotations\n",
    "with gzip.open(file_path, 'rt') as f:\n",
    "    # Skip comment lines (starting with '!') and read the file into a DataFrame\n",
    "    df = pd.read_csv(f, delimiter='\\t', comment='!', header=None)\n",
    "    # Count the number of annotations\n",
    "    num_annotations = df.shape[0]\n",
    "\n",
    "print(f\"Number of annotations: {num_annotations}\")"
   ]
  },
  {
   "cell_type": "code",
   "execution_count": 5,
   "metadata": {},
   "outputs": [
    {
     "name": "stdout",
     "output_type": "stream",
     "text": [
      "Number of non-commented lines: 1205654900\n"
     ]
    }
   ],
   "source": [
    "import gzip\n",
    "\n",
    "filename = '/data_link/servilla/SPOT2/data/GOA/goa_uniprot_all.gpa.gz'  # Update with your actual file path\n",
    "\n",
    "def count_non_commented_lines(filename):\n",
    "    count = 0\n",
    "    with gzip.open(filename, 'rt') as fp:\n",
    "        for line in fp:\n",
    "            # Skip commented lines (lines that start with '!')\n",
    "            if not line.startswith('!'):\n",
    "                count += 1\n",
    "    return count\n",
    "\n",
    "non_commented_lines_count = count_non_commented_lines(filename)\n",
    "print(f\"Number of non-commented lines: {non_commented_lines_count}\")\n"
   ]
  },
  {
   "cell_type": "code",
   "execution_count": 6,
   "metadata": {},
   "outputs": [],
   "source": [
    "import pandas as pd\n",
    "df1 = pd.read_csv('/data_link/servilla/SPOT2/data/Uniprot/Transporter_Uniprot.csv',\n",
    "                  sep=',')\n",
    "df1 = df1[['Uniprot ID']]\n",
    "df1.to_csv('/data_link/servilla/SPOT2/data/Uniprot/Transporter_Uniprot_IDs.csv', header=False, index=False)"
   ]
  },
  {
   "cell_type": "code",
   "execution_count": null,
   "metadata": {},
   "outputs": [],
   "source": [
    "import pandas as pd\n",
    "\n",
    "# File path to the gzipped TSV file\n",
    "file_path = '/data_link/servilla/SPOT2/data/idmapping_2024_06_21_all.tsv.gz'\n",
    "\n",
    "# Read the gzipped TSV file into a DataFrame\n",
    "df = pd.read_csv(file_path, compression='gzip', sep='\\t')\n",
    "\n",
    "# Display the DataFrame to verify the content\n",
    "print(df.head())\n",
    "df.to_csv('/data_link/servilla/SPOT2/data/idmapping_2024_06_21_all.csv', index=False)\n"
   ]
  },
  {
   "cell_type": "code",
   "execution_count": null,
   "metadata": {},
   "outputs": [],
   "source": [
    "import pandas as pd\n",
    "\n",
    "df = pd.read_csv(\n",
    "    '/data_link/servilla/SPOT2/data/Uniprot/Transporter_Uniprot.csv')\n",
    "\n",
    "df = df[['molecule ID']]\n",
    "unique_count = df.iloc[:, 0].nunique()\n",
    "print(f'CHEBI unique_count; {unique_count}')\n",
    "print(df)\n",
    "df = df.drop_duplicates()\n",
    "print(df)\n",
    "\n",
    "# Define a regular expression pattern to match the desired ChEBI ID format\n",
    "pattern = r'^CHEBI:\\d+$'\n",
    "\n",
    "# Use the str.match method to filter the DataFrame based on the pattern\n",
    "df = df[df['molecule ID'].astype(str).str.match(pattern)]\n",
    "print(df)\n",
    "\n",
    "df.to_csv('/data_link/servilla/SPOT2/data/Uniprot/Unique_CHEBI_IDs.csv', header=True, index=False)"
   ]
  },
  {
   "cell_type": "code",
   "execution_count": 11,
   "metadata": {},
   "outputs": [
    {
     "name": "stdout",
     "output_type": "stream",
     "text": [
      "        ChEBI ID                                             SMILES\n",
      "0    CHEBI:30616  Nc1ncnc2n(cnc12)[C@@H]1O[C@H](COP([O-])(=O)OP(...\n",
      "1    CHEBI:64837      C(*)(=O)[C@@H](N*)CC=1N(C=NC1)P([O-])(=O)[O-]\n",
      "2    CHEBI:58245  Nc1ncnc2n(cnc12)[C@H]1C[C@H](O)[C@@H](COP([O-]...\n",
      "3    CHEBI:57673  Nc1nc2n(cnc2c(=O)[nH]1)[C@H]1C[C@H](O)[C@@H](C...\n",
      "4    CHEBI:58115  Nc1nc2n(cnc2c(=O)[nH]1)[C@@H]1O[C@H](COP([O-])...\n",
      "..           ...                                                ...\n",
      "208  CHEBI:16708                                  Nc1ncnc2[nH]cnc12\n",
      "209  CHEBI:16040                                   Nc1cc[nH]c(=O)n1\n",
      "210  CHEBI:17712                       O=c1[nH]c2[nH]cnc2c(=O)[nH]1\n",
      "211  CHEBI:57947                          CN(CC([O-])=O)C(N)=[NH2+]\n",
      "212  CHEBI:33542                                  [H]SS([O-])(=O)=O\n",
      "\n",
      "[212 rows x 2 columns]\n"
     ]
    }
   ],
   "source": [
    "import pandas as pd\n",
    "\n",
    "# Load the data from the CSV file\n",
    "df = pd.read_csv('/data_link/servilla/SPOT2/data/Uniprot/chebi_smiles_tmp.csv')\n",
    "df = df[['ChEBI ID', 'SMILES']]\n",
    "df = df.dropna(subset=['SMILES'])\n",
    "print(df)\n",
    "df.to_csv('/data_link/servilla/SPOT2/data/Uniprot/chebi_smiles.csv', header=True, index=False)"
   ]
  }
 ],
 "metadata": {
  "kernelspec": {
   "display_name": "xgboost_gpu",
   "language": "python",
   "name": "python3"
  },
  "language_info": {
   "codemirror_mode": {
    "name": "ipython",
    "version": 3
   },
   "file_extension": ".py",
   "mimetype": "text/x-python",
   "name": "python",
   "nbconvert_exporter": "python",
   "pygments_lexer": "ipython3",
   "version": "3.8.19"
  }
 },
 "nbformat": 4,
 "nbformat_minor": 2
}
