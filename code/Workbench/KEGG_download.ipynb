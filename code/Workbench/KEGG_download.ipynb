{
 "cells": [
  {
   "cell_type": "code",
   "execution_count": 1,
   "metadata": {},
   "outputs": [
    {
     "name": "stdout",
     "output_type": "stream",
     "text": [
      "KEGG drug dataset has been downloaded and saved to 'kegg_drug_dataset.csv'.\n"
     ]
    }
   ],
   "source": [
    "import requests\n",
    "import pandas as pd\n",
    "\n",
    "# KEGG API endpoint for the drug dataset\n",
    "url = \"http://rest.kegg.jp/list/drug\"\n",
    "\n",
    "# Send a request to the KEGG API\n",
    "response = requests.get(url)\n",
    "\n",
    "# Check if the request was successful\n",
    "if response.status_code == 200:\n",
    "    # Split the response content into lines\n",
    "    lines = response.text.split('\\n')\n",
    "\n",
    "    # Parse the lines to extract drug information\n",
    "    data = []\n",
    "    for line in lines:\n",
    "        if line:\n",
    "            entry, description = line.split('\\t')\n",
    "            data.append({'Entry': entry, 'Description': description})\n",
    "\n",
    "    # Create a DataFrame from the parsed data\n",
    "    df = pd.DataFrame(data)\n",
    "\n",
    "    # Save the DataFrame to a CSV file\n",
    "    df.to_csv('kegg_drug_dataset.csv', index=False)\n",
    "    print(\"KEGG drug dataset has been downloaded and saved to 'kegg_drug_dataset.csv'.\")\n",
    "else:\n",
    "    print(\"Failed to retrieve the KEGG drug dataset. Status code:\", response.status_code)\n"
   ]
  },
  {
   "cell_type": "code",
   "execution_count": 5,
   "metadata": {},
   "outputs": [
    {
     "name": "stdout",
     "output_type": "stream",
     "text": [
      "The CSV and PKL files have been processed and saved.\n"
     ]
    }
   ],
   "source": [
    "import pandas as pd\n",
    "\n",
    "# Read the CSV file into a DataFrame\n",
    "df = pd.read_csv('kegg_drug_dataset.csv')\n",
    "\n",
    "# Rename columns\n",
    "df.rename(columns={'Entry': 'KEGG ID', 'Description': 'substrate'}, inplace=True)\n",
    "\n",
    "# Create an empty list to hold the new rows\n",
    "new_rows = []\n",
    "\n",
    "# Iterate over each row in the DataFrame\n",
    "for index, row in df.iterrows():\n",
    "    kegg_id = row['KEGG ID']\n",
    "    substrate = row['substrate']\n",
    "    # Ensure substrate is a string\n",
    "    if not isinstance(substrate, str):\n",
    "        substrate = ''\n",
    "    substrates = substrate.split(';')\n",
    "    for sub in substrates:\n",
    "        new_rows.append({'KEGG ID': kegg_id.rstrip(','), 'substrate': sub.strip().rstrip(',')})\n",
    "\n",
    "# Create a new DataFrame from the new rows\n",
    "new_df = pd.DataFrame(new_rows)\n",
    "\n",
    "# Save the new DataFrame to a CSV file\n",
    "new_df.to_csv('kegg_drug_dataset_split.csv', index=False)\n",
    "\n",
    "# Save the new DataFrame to a pickle file\n",
    "new_df.to_pickle('kegg_drug_dataset_split.pkl')\n",
    "\n",
    "print(\"The CSV and PKL files have been processed and saved.\")\n"
   ]
  },
  {
   "cell_type": "code",
   "execution_count": 7,
   "metadata": {},
   "outputs": [
    {
     "name": "stdout",
     "output_type": "stream",
     "text": [
      "KEGG substrate dataset has been downloaded, processed, and saved to 'kegg_substrate_dataset_split.csv' and 'kegg_substrate_dataset_split.pkl'.\n"
     ]
    }
   ],
   "source": [
    "import requests\n",
    "import pandas as pd\n",
    "\n",
    "# KEGG API endpoint for the compound (substrate) dataset\n",
    "url = \"http://rest.kegg.jp/list/compound\"\n",
    "\n",
    "# Send a request to the KEGG API\n",
    "response = requests.get(url)\n",
    "\n",
    "# Check if the request was successful\n",
    "if response.status_code == 200:\n",
    "    # Split the response content into lines\n",
    "    lines = response.text.split('\\n')\n",
    "\n",
    "    # Parse the lines to extract compound information\n",
    "    data = []\n",
    "    for line in lines:\n",
    "        if line:\n",
    "            entry, description = line.split('\\t')\n",
    "            data.append({'KEGG ID': entry, 'substrate': description})\n",
    "\n",
    "    # Create a DataFrame from the parsed data\n",
    "    df = pd.DataFrame(data)\n",
    "\n",
    "    # Create an empty list to hold the new rows\n",
    "    new_rows = []\n",
    "\n",
    "    # Iterate over each row in the DataFrame\n",
    "    for index, row in df.iterrows():\n",
    "        kegg_id = row['KEGG ID']\n",
    "        substrate = row['substrate']\n",
    "        # Ensure substrate is a string\n",
    "        if not isinstance(substrate, str):\n",
    "            substrate = ''\n",
    "        substrates = substrate.split(';')\n",
    "        for sub in substrates:\n",
    "            new_rows.append({'KEGG ID': kegg_id.rstrip(','), 'substrate': sub.strip().rstrip(',')})\n",
    "\n",
    "    # Create a new DataFrame from the new rows\n",
    "    new_df = pd.DataFrame(new_rows)\n",
    "\n",
    "    # Save the new DataFrame to a CSV file\n",
    "    new_df.to_csv('kegg_substrate_dataset_split.csv', index=False)\n",
    "\n",
    "    # Save the new DataFrame to a pickle file\n",
    "    new_df.to_pickle('kegg_substrate_dataset_split.pkl')\n",
    "\n",
    "    print(\"KEGG substrate dataset has been downloaded, processed, and saved to 'kegg_substrate_dataset_split.csv' and 'kegg_substrate_dataset_split.pkl'.\")\n",
    "else:\n",
    "    print(\"Failed to retrieve the KEGG substrate dataset. Status code:\", response.status_code)\n"
   ]
  },
  {
   "cell_type": "code",
   "execution_count": 9,
   "metadata": {},
   "outputs": [
    {
     "name": "stdout",
     "output_type": "stream",
     "text": [
      "KEGG to ChEBI mapping has been downloaded and saved to 'kegg_chebi_mapping.tsv'.\n"
     ]
    }
   ],
   "source": [
    "import requests\n",
    "import pandas as pd\n",
    "\n",
    "# KEGG API endpoint for the compound mapping to ChEBI\n",
    "url = \"http://rest.kegg.jp/conv/chebi/compound\"\n",
    "\n",
    "# Send a request to the KEGG API\n",
    "response = requests.get(url)\n",
    "\n",
    "# Check if the request was successful\n",
    "if response.status_code == 200:\n",
    "    # Split the response content into lines\n",
    "    lines = response.text.split('\\n')\n",
    "\n",
    "    # Parse the lines to extract compound mappings\n",
    "    data = []\n",
    "    for line in lines:\n",
    "        if line:\n",
    "            kegg_entry, chebi_entry = line.split('\\t')\n",
    "            kegg_id = kegg_entry.split(':')[1]\n",
    "            chebi_id = chebi_entry.split(':')[1]\n",
    "            data.append({\n",
    "                'Input': kegg_id,\n",
    "                'Input_source': 'KEGG',\n",
    "                'Output': f'CHEBI:{chebi_id}',\n",
    "                'Output_source': 'ChEBI'\n",
    "            })\n",
    "\n",
    "    # Create a DataFrame from the parsed data\n",
    "    df = pd.DataFrame(data)\n",
    "\n",
    "    # Save the DataFrame to a TSV file\n",
    "    df.to_csv('kegg_chebi_mapping.tsv', sep='\\t', index=False)\n",
    "\n",
    "    print(\"KEGG to ChEBI mapping has been downloaded and saved to 'kegg_chebi_mapping.tsv'.\")\n",
    "else:\n",
    "    print(\"Failed to retrieve the KEGG to ChEBI mapping. Status code:\", response.status_code)\n"
   ]
  }
 ],
 "metadata": {
  "kernelspec": {
   "display_name": "ML",
   "language": "python",
   "name": "python3"
  },
  "language_info": {
   "codemirror_mode": {
    "name": "ipython",
    "version": 3
   },
   "file_extension": ".py",
   "mimetype": "text/x-python",
   "name": "python",
   "nbconvert_exporter": "python",
   "pygments_lexer": "ipython3",
   "version": "3.8.17"
  }
 },
 "nbformat": 4,
 "nbformat_minor": 2
}
